{
 "cells": [
  {
   "cell_type": "code",
   "execution_count": 21,
   "metadata": {},
   "outputs": [],
   "source": [
    "import pandas as pd\n",
    "import numpy as np\n",
    "import os\n",
    "import argparse\n",
    "\n",
    "from openai import OpenAI\n",
    "from langchain.chat_models import ChatOpenAI\n",
    "from langchain.document_loaders import DirectoryLoader\n",
    "from langchain.text_splitter import RecursiveCharacterTextSplitter\n",
    "from langchain.schema import Document\n",
    "from langchain.embeddings import OpenAIEmbeddings\n",
    "from langchain.vectorstores.chroma import Chroma\n",
    "from langchain.prompts import ChatPromptTemplate\n",
    "from langchain.agents.openai_assistant import OpenAIAssistantRunnable\n",
    "from typing_extensions import override\n",
    "from openai import AssistantEventHandler\n",
    "\n",
    "\n",
    "from dataclasses import dataclass\n",
    "import os\n",
    "import time\n",
    "\n",
    "import warnings\n",
    "warnings.filterwarnings('ignore')"
   ]
  },
  {
   "cell_type": "code",
   "execution_count": 2,
   "metadata": {},
   "outputs": [],
   "source": [
    "CHROMA_PATH = \"chroma\"\n",
    "DATA_PATH = \"data\"\n",
    "\n",
    "client = OpenAI(api_key=os.environ['OPENAI_API_KEY'])"
   ]
  },
  {
   "cell_type": "code",
   "execution_count": 3,
   "metadata": {},
   "outputs": [],
   "source": [
    "assistant_id = os.environ['ASSISSTANT_ID']\n",
    "assistant = client.beta.assistants.retrieve(assistant_id)"
   ]
  },
  {
   "cell_type": "code",
   "execution_count": 11,
   "metadata": {},
   "outputs": [],
   "source": [
    "#class EventHandler(AssistantEventHandler):\n",
    "#  def __init__(self):\n",
    "#    self.response_data = \"\"\n",
    "#    self.__stream = None\n",
    "    \n",
    "#  @override\n",
    "#  def on_text_created(self, text) -> None:\n",
    "#    self.response_data += f\"\\nassistant > \"\n",
    "#    print(f\"\\nassistant > \", end=\"\", flush=True)\n",
    "      \n",
    "#  @override\n",
    "#  def on_text_delta(self, delta, snapshot):\n",
    "#    self.response_data += delta.value\n",
    "#    print(delta.value, end=\"\", flush=True)\n",
    "      \n",
    "#  def on_tool_call_created(self, tool_call):\n",
    "#    self.response_data += f\"\\nassistant > {tool_call.type}\\n\"\n",
    "#    print(f\"\\nassistant > {tool_call.type}\\n\", flush=True)\n",
    "  \n",
    "#  def on_tool_call_delta(self, delta, snapshot):\n",
    "#    if delta.type == 'code_interpreter':\n",
    "#      if delta.code_interpreter.input:\n",
    "#        self.response_data += delta.code_interpreter.input\n",
    "#        print(delta.code_interpreter.input, end=\"\", flush=True)\n",
    "#      if delta.code_interpreter.outputs:\n",
    "#        self.response_data += f\"\\n\\noutput >\"\n",
    "#        print(f\"\\n\\noutput >\", flush=True)\n",
    "#        for output in delta.code_interpreter.outputs:\n",
    "#          if output.type == \"logs\":\n",
    "#            self.response_data += f\"\\n{output.logs}\"\n",
    "#            print(f\"\\n{output.logs}\", flush=True)\n",
    "\n",
    "\n",
    "#  def get_response(self):\n",
    "#    return self.response_data"
   ]
  },
  {
   "cell_type": "code",
   "execution_count": 9,
   "metadata": {},
   "outputs": [],
   "source": [
    "#class EventHandler(AssistantEventHandler):\n",
    "#    def __init__(self):\n",
    "#        self.response_data = \"\"\n",
    "#        self.tool_calls = []\n",
    "    \n",
    "#    @override\n",
    "#    def on_text_created(self, text) -> None:\n",
    "#        self.response_data += f\"\\nassistant > \"\n",
    "      \n",
    "#    @override\n",
    "#    def on_text_delta(self, delta, snapshot):\n",
    "#        self.response_data += delta.value\n",
    "      \n",
    "#    def on_tool_call_created(self, tool_call):\n",
    "#        self.response_data += f\"\\nassistant > {tool_call.type}\\n\"\n",
    "#        self.tool_calls.append(tool_call.type)\n",
    "  \n",
    "#    def on_tool_call_delta(self, delta, snapshot):\n",
    "#        if delta.type == 'code_interpreter':\n",
    "#            if delta.code_interpreter.input:\n",
    "#                self.response_data += delta.code_interpreter.input\n",
    "#            if delta.code_interpreter.outputs:\n",
    "#                self.response_data += f\"\\n\\noutput >\"\n",
    "#                for output in delta.code_interpreter.outputs:\n",
    "#                    if output.type == \"logs\":\n",
    "#                        self.response_data += f\"\\n{output.logs}\"\n",
    "    \n",
    "#    def get_response(self):\n",
    "#        return self.response_data\n"
   ]
  },
  {
   "cell_type": "code",
   "execution_count": 4,
   "metadata": {},
   "outputs": [],
   "source": [
    "def get_context(question):\n",
    "    # Prepare the DB.\n",
    "    embedding_function = OpenAIEmbeddings()\n",
    "    db = Chroma(persist_directory=CHROMA_PATH, embedding_function=embedding_function)\n",
    "\n",
    "    # Search the DB.\n",
    "    results = db.similarity_search_with_relevance_scores(question, k=15)\n",
    "    if len(results) == 0 or results[0][1] < 0.7:\n",
    "        page_content = \"\"\"Robert Turro was born April 19th 2000 in Pequannock Township, New Jersey. He is the youngest of three children, having two older sisters, and is the son of a high school gym teacher and a nurse. \n",
    "                            Robert grew up in the quit rural town of Wantage, New Jersey, which is located in the very northern part of the state. \n",
    "                            As a child, Robert loved to play sports and began playing organized sports starting when he was five. The sports he played were football, baseball, and wrestling. These sports taught him how to compete, how to be disciplined and maintain a work ethic. They taught him how to handle loss and how to persevere in the face of adversity.\n",
    "                            While Robert loved to play sports growing up, he was also a great student. He was always ranked in the top 15 of his graduating class throughout high school and exceled at most subjects. He loved to read and write and growing up would even write stories for his classmates. He loved history and learning about how things came to be. He loved science and astronomy and was always fascinated by outer space. He loved math and statistics and how they explained the physical world. Given his diverse interests, Robert decided to not declare a major his first year of college and continue to try different things until he figured out what he wanted to devote his life to.\n",
    "                            Robert attended Rutgers University - New Brunswick in New Brunswick New Jersey. His first semester freshman year he would take a variety of classes to try and determine what path he wanted to take. One of the classes that he took was an economics class. Robert remembers being very fascinated by economics and how key elements of our economy follow determined mathematical relationships. After his freshman year Robert decided to major in economics, but it was not until his sophomore year that he would find his passion. One of the required economics classes at Rutgers was a class called econometrics. This class was an advanced statistics class that introduced the concept of linear regression. Robert remembers being in awe of linear regression and how past data and statistical concepts can be used to predict the future. This led Robert to desire to learn more about machine learning models and also led him to double major in Statistics. During this time Robert also took his first programming class, which was taught in Java, where he learning the basics of programming.\n",
    "                            During the Coronavirus pandemic of 2020 Rutgers University shut down and all classes became virtual. During this time Robert decided to teach himself Python. In addition to this he also began competing in Kaggle competitions, which are machine learning competitions in which people compete to build the best performing models given various tasks and data. Robert also received a lot of formal education on machine learning and Python through his statistics classes at Rutgers. This combination of formal education paired with extracurricular Kaggle competitions allowed Robert to graduate Rutgers with a very strong foundation in data science, machine learning, and programming. \n",
    "                            Robert graduated Rutgers Magna Cum Laude with a cumulative GPA of 3.71. He graduated with two degrees: a Bachelor of Arts in Statistics and a Bachelor of Arts in Economics as well as a minor in mathematics.\n",
    "                            After graduating from Rutgers, Robert received a full time offer as a data analyst for Internal Audit from TIAA. While Robert had lived in New Jersey his whole life he was ready for a change of scenery and did not desire to stay in New Jersey his entire life, so when TIAA had given him an offer for their Charlotte, North Carolina office, he jumped at the opportunity and moved south.\n",
    "                            Robert was excited to move to a new place, however it was also a scary leap of faith. He only knew one person in Charlotte and would be leaving behind many friends and family in New Jersey. Robert, however, took this challenge head on. Upon arriving in Charlotte he immediately began joining intramural sports leagues and quickly began networking and making friends. Charlotte quickly became home for him and he claims that moving to Charlotte was one of the best decisions of his life.\n",
    "                            Since graduating college, Robert has never stopped learning and improving his machine learning and programming skills. Everyday after he gets home from work, Robert usually spends a few hours either practicing fundamental data structures and algorithms concepts, competing in Kaggle competitions, or developing full stack websites. Some projects that Robert has built include a movie recommendation program, which is a website where a user enters a movie and the release year and gets recommended another movie, and a recipe recommender which allows a user to search for ingredients or types of food and get recommended new recipes in a personalized dashboard. In addition to these full stack projects, Robert has also placed high in numerous Kaggle competitions allowing him to be given the rank of \"Kaggle Expert\" by Kaggle.com. \n",
    "                            From February 2024 to April 2024 TIAA also hosted an internal machine learning competition, open to all associates throughout the company. Robert was one of 200 employees who signed up for this competition and was put on a random team with 5 other TIAA employees he had never met before. The problem statement was to create a model that can read in the raw text of new regulations and be able to predict if the regulation is applicable to TIAA or not. Models were judged based off of F1 score and the team that had the best F1 score would win. Robert took the lead from the model development perspective and helped his team develop a voting ensemble model which consisted of numerous CatBoost Classifiers and Deberta Models, and the model that Robert created ended up having the best F1 score and winning the competition.\n",
    "                            The programming languages he knows include: Python, Javascript, HTML, CSS, and he has past experience with Java.\n",
    "                            Robert is a very hard working and driven person with an undeniable passion for machine learning and programming.\"\"\"\n",
    "    \n",
    "    else:\n",
    "        page_content = \"\\n\\n---\\n\\n\".join([doc.page_content for doc, _score in results])\n",
    "\n",
    "\n",
    "    return page_content\n",
    "        \n"
   ]
  },
  {
   "cell_type": "code",
   "execution_count": 5,
   "metadata": {},
   "outputs": [],
   "source": [
    "def create_prompt(context, question):\n",
    "    PROMPT_TEMPLATE = \"\"\"\n",
    "    Answer the question based on the following context:\n",
    "\n",
    "    {context} \n",
    "\n",
    "    ---\n",
    "\n",
    "    Answer the question based on the above context: {question}\n",
    "    \"\"\"\n",
    "\n",
    "    prompt_template = ChatPromptTemplate.from_template(PROMPT_TEMPLATE)\n",
    "    prompt = prompt_template.format(context=context, question=question)\n",
    "    \n",
    "    return prompt\n",
    "    "
   ]
  },
  {
   "cell_type": "code",
   "execution_count": 6,
   "metadata": {},
   "outputs": [],
   "source": [
    "def create_thread():\n",
    "    global client\n",
    "    thread = client.beta.threads.create()\n",
    "    return thread"
   ]
  },
  {
   "cell_type": "code",
   "execution_count": 59,
   "metadata": {},
   "outputs": [],
   "source": [
    "def get_response(prompt, thread):\n",
    "    global client\n",
    "    global assistant\n",
    "\n",
    "    message = client.beta.threads.messages.create(\n",
    "        thread_id=thread.id,\n",
    "        role=\"user\",\n",
    "        content=prompt\n",
    "    )\n",
    "\n",
    "    run = client.beta.threads.runs.create(\n",
    "        thread_id=thread.id,\n",
    "        assistant_id=assistant.id\n",
    "    )\n",
    "\n",
    "    run_status = client.beta.threads.runs.retrieve(\n",
    "        thread_id = thread.id,\n",
    "        run_id = run.id\n",
    "    )\n",
    "\n",
    "    while run_status.status not in [\"completed\", \"failed\", \"requires_action\"]:\n",
    "        run_status = client.beta.threads.runs.retrieve(\n",
    "            thread_id = thread.id,\n",
    "            run_id = run_status.id)\n",
    "        \n",
    "        #time.sleep(5)\n",
    "\n",
    "\n",
    "    messages = client.beta.threads.messages.list(\n",
    "        thread_id = thread.id)\n",
    "    \n",
    "    out = []\n",
    "    for msg in messages:\n",
    "        if msg.role == \"assistant\":\n",
    "            out.append([msg.content[0].text.value])\n",
    "    \n",
    "    return out #\"\\n\".join(out[0])"
   ]
  },
  {
   "cell_type": "code",
   "execution_count": 89,
   "metadata": {},
   "outputs": [],
   "source": [
    "class EventHandler(AssistantEventHandler):    \n",
    "  @override\n",
    "  def on_text_created(self, text) -> None:\n",
    "    print(f\"\\nassistant > \", end=\"\", flush=True)\n",
    "      \n",
    "  @override\n",
    "  def on_text_delta(self, delta, snapshot):\n",
    "    print(delta.value, end=\"\", flush=True)\n",
    "      \n",
    "  def on_tool_call_created(self, tool_call):\n",
    "    print(f\"\\nassistant > {tool_call.type}\\n\", flush=True)\n",
    "  \n",
    "  def on_tool_call_delta(self, delta, snapshot):\n",
    "    if delta.type == 'code_interpreter':\n",
    "      if delta.code_interpreter.input:\n",
    "        print(delta.code_interpreter.input, end=\"\", flush=True)\n",
    "      if delta.code_interpreter.outputs:\n",
    "        print(f\"\\n\\noutput >\", flush=True)\n",
    "        for output in delta.code_interpreter.outputs:\n",
    "          if output.type == \"logs\":\n",
    "            print(f\"\\n{output.logs}\", flush=True)\n",
    "\n",
    "\n",
    "def get_response_stream(prompt, thread):\n",
    "    global client\n",
    "    global assistant\n",
    "\n",
    "    # Send the prompt as a message\n",
    "    client.beta.threads.messages.create(\n",
    "        thread_id=thread.id,\n",
    "        role=\"user\",\n",
    "        content=prompt\n",
    "    )\n",
    "\n",
    "    with client.beta.threads.runs.stream(\n",
    "      thread_id=thread.id,\n",
    "      assistant_id=assistant.id,\n",
    "      #instructions=\"Please address the user as Jane Doe. The user has a premium account.\",\n",
    "      event_handler=EventHandler(),\n",
    "    ) as stream:\n",
    "      stream.until_done()\n",
    "    "
   ]
  },
  {
   "cell_type": "code",
   "execution_count": 101,
   "metadata": {},
   "outputs": [],
   "source": [
    "question = \"Tell me a poem about Robert\""
   ]
  },
  {
   "cell_type": "code",
   "execution_count": 102,
   "metadata": {},
   "outputs": [],
   "source": [
    "context = get_context(question)"
   ]
  },
  {
   "cell_type": "code",
   "execution_count": 103,
   "metadata": {},
   "outputs": [],
   "source": [
    "prompt = create_prompt(context, question)"
   ]
  },
  {
   "cell_type": "code",
   "execution_count": 104,
   "metadata": {},
   "outputs": [],
   "source": [
    "thread = create_thread()"
   ]
  },
  {
   "cell_type": "code",
   "execution_count": 105,
   "metadata": {},
   "outputs": [
    {
     "name": "stdout",
     "output_type": "stream",
     "text": [
      "\n",
      "assistant > Certainly! Here is a poem about Robert:\n",
      "\n",
      "In the town of Wantage, young Robert did reside,\n",
      "A lover of sports and of knowledge, with nothing to hide.\n",
      "From playing football to diving into stats,\n",
      "His journey led to machine learning, where he shone like the stars.\n",
      "\n",
      "With a mind so sharp and a heart so bold,\n",
      "Robert tackled each challenge, his story untold.\n",
      "Economics and statistics, his domains of delight,\n",
      "In the world of programming, he soared to new height.\n",
      "\n",
      "From Jersey to Charlotte, he made a brave leap,\n",
      "Embracing change, his dreams to keep.\n",
      "Kaggle competitions and projects galore,\n",
      "Robert's passion for programming soared.\n",
      "\n",
      "A data analyst by day, a coder by night,\n",
      "Robert's dedication always shining bright.\n",
      "In the realm of machine learning, he stood tall,\n",
      "A true expert, embracing every call.\n",
      "\n",
      "So here's to Robert, a star in his field,\n",
      "His journey of learning, a mighty shield.\n",
      "With Python in hand and dreams in his eyes,\n",
      "Robert's future gleams, reaching the skies."
     ]
    }
   ],
   "source": [
    "response = get_response_stream(prompt, thread)"
   ]
  },
  {
   "cell_type": "code",
   "execution_count": 95,
   "metadata": {},
   "outputs": [],
   "source": [
    "response"
   ]
  }
 ],
 "metadata": {
  "kernelspec": {
   "display_name": "Python 3",
   "language": "python",
   "name": "python3"
  },
  "language_info": {
   "codemirror_mode": {
    "name": "ipython",
    "version": 3
   },
   "file_extension": ".py",
   "mimetype": "text/x-python",
   "name": "python",
   "nbconvert_exporter": "python",
   "pygments_lexer": "ipython3",
   "version": "3.12.3"
  }
 },
 "nbformat": 4,
 "nbformat_minor": 2
}
